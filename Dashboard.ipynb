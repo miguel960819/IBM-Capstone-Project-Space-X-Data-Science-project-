{
    "cells": [
        {
            "metadata": {},
            "cell_type": "code",
            "source": "!pip3 install pandas dash",
            "execution_count": null,
            "outputs": []
        },
        {
            "metadata": {},
            "cell_type": "code",
            "source": "# If does not run in this platform, run it in ANACONDA\n\n# Import required libraries\nimport pandas as pd\nimport dash\nimport dash_html_components as html\nimport dash_core_components as dcc\nfrom dash.dependencies import Input, Output\nimport plotly.express as px\n\n# Read the airline data into pandas dataframe\nspacex_df = pd.read_csv(\"https://cf-courses-data.s3.us.cloud-object-storage.appdomain.cloud/IBM-DS0321EN-SkillsNetwork/datasets/spacex_launch_dash.csv\")\nmax_payload = spacex_df['Payload Mass (kg)'].max()\nmin_payload = spacex_df['Payload Mass (kg)'].min()\nsite_list = spacex_df['Launch Site'].unique()\n\n# Create a dash application\napp = dash.Dash(__name__)\n\n# Create an app layout\napp.layout = html.Div(children=[html.H1('SpaceX Launch Records Dashboard',\n                                        style={'textAlign': 'center', 'color': '#503D36',\n                                               'font-size': 40}),\n                                # TASK 1: Add a dropdown list to enable Launch Site selection\n                                # The default select value is for ALL sites\n                                # dcc.Dropdown(id='site-dropdown',...)\n                                dcc.Dropdown(id='site-dropdown', options=[{'label':i, 'value':i} for i in site_list], value='ALL', placeholder='Select Launch Site', searchable=True),\n                                html.Br(),\n\n                                # TASK 2: Add a pie chart to show the total successful launches count for all sites\n                                # If a specific launch site was selected, show the Success vs. Failed counts for the site\n                                html.Div(dcc.Graph(id='success-pie-chart')),\n                                html.Br(),\n\n                                html.P(\"Payload range (Kg):\"),\n                                # TASK 3: Add a slider to select payload range\n                                #dcc.RangeSlider(id='payload-slider',...)\ndcc.RangeSlider(\n                                    id='payload-slider',\n                                    min=0,\n                                    max=10000,\n                                    step=1000,\n                                    marks={0:'0', 2500:'2500', 5000:'5000', 7500:'7500', 10000:'10000'},\n                                    value=[min_payload, max_payload]\n                                    ),\n                                # TASK 4: Add a scatter chart to show the correlation between payload and launch success\n                                html.Div(dcc.Graph(id='success-payload-scatter-chart')),\n                                ])\n\n# TASK 2:\n# Add a callback function for `site-dropdown` as input, `success-pie-chart` as output\n@app.callback(Output(component_id='success-pie-chart', component_property='figure'), Input(component_id='site-dropdown', component_property='value'))\n\ndef get_pie_chart(site):\n    if site == 'ALL':\n        fig = px.pie(spacex_df, values = 'class', names='Launch Site', title='title')\n        return fig\n    else:\n        filtered_df = spacex_df[spacex_df['Launch Site'] == site]\n        filtered_df = filtered_df.groupby(['Launch Site','class']).size().reset_index(name='class count')\n        fig = px.pie(filtered_df, values='class count', names='class', title=f\"Total Success Launches for site {site}\")\n        return fig\n\n# TASK 4:\n# Add a callback function for `site-dropdown` and `payload-slider` as inputs, `success-payload-scatter-chart` as output\n@app.callback(\n    Output(component_id='success-payload-scatter-chart', component_property='figure'),\n    [Input(component_id='site-dropdown', component_property='value'),\n    Input(component_id='payload-slider', component_property='value')]\n)\n\ndef get_scatter_plot(entered_site, slide):\n    low, high = slide\n    cond = (spacex_df['Payload Mass (kg)'] > low) & (spacex_df['Payload Mass (kg)'] < high)\n    filtered_df = spacex_df[cond]\n\n    if entered_site == 'ALL':\n        fig1 = px.scatter(filtered_df, x='Payload Mass (kg)', y='class', color='Booster Version Category')\n    else:\n        fig1 = px.scatter(\n            filtered_df[filtered_df['Launch Site']==entered_site],\n            x='Payload Mass (kg)',\n            y='class',\n            color='Booster Version Category')\n    return fig1\n\n# Run the app\nif __name__ == '__main__':\n    app.run_server()",
            "execution_count": null,
            "outputs": []
        },
        {
            "metadata": {},
            "cell_type": "code",
            "source": "",
            "execution_count": null,
            "outputs": []
        }
    ],
    "metadata": {
        "kernelspec": {
            "name": "python3",
            "display_name": "Python 3.8",
            "language": "python"
        },
        "language_info": {
            "name": "python",
            "version": "3.8.12",
            "mimetype": "text/x-python",
            "codemirror_mode": {
                "name": "ipython",
                "version": 3
            },
            "pygments_lexer": "ipython3",
            "nbconvert_exporter": "python",
            "file_extension": ".py"
        }
    },
    "nbformat": 4,
    "nbformat_minor": 1
}